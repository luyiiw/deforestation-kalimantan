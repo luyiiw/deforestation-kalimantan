{
 "cells": [
  {
   "cell_type": "markdown",
   "metadata": {},
   "source": [
    "# Mapping Agricultural-Driven Deforestation in Central Kalimantan with Remote Sensing\n",
    "\n",
    "Lu Yii Wong \n",
    "\n",
    "May 2025"
   ]
  },
  {
   "cell_type": "markdown",
   "metadata": {},
   "source": [
    "## Part 1: Setup and Data Aquisition "
   ]
  },
  {
   "cell_type": "code",
   "execution_count": 1,
   "metadata": {},
   "outputs": [],
   "source": [
    "# Setup Libraries\n",
    "import ee\n",
    "import geemap\n",
    "import matplotlib.pyplot as plt\n",
    "import numpy as np\n",
    "import seaborn as sns\n",
    "import pandas as pd\n",
    "import geopandas as gpd"
   ]
  },
  {
   "cell_type": "code",
   "execution_count": 2,
   "metadata": {},
   "outputs": [
    {
     "data": {
      "text/html": [
       "\n",
       "            <style>\n",
       "                .geemap-dark {\n",
       "                    --jp-widgets-color: white;\n",
       "                    --jp-widgets-label-color: white;\n",
       "                    --jp-ui-font-color1: white;\n",
       "                    --jp-layout-color2: #454545;\n",
       "                    background-color: #383838;\n",
       "                }\n",
       "\n",
       "                .geemap-dark .jupyter-button {\n",
       "                    --jp-layout-color3: #383838;\n",
       "                }\n",
       "\n",
       "                .geemap-colab {\n",
       "                    background-color: var(--colab-primary-surface-color, white);\n",
       "                }\n",
       "\n",
       "                .geemap-colab .jupyter-button {\n",
       "                    --jp-layout-color3: var(--colab-primary-surface-color, white);\n",
       "                }\n",
       "            </style>\n",
       "            "
      ],
      "text/plain": [
       "<IPython.core.display.HTML object>"
      ]
     },
     "metadata": {},
     "output_type": "display_data"
    },
    {
     "data": {
      "text/html": [
       "<p>To authorize access needed by Earth Engine, open the following\n",
       "        URL in a web browser and follow the instructions:</p>\n",
       "        <p><a href=https://code.earthengine.google.com/client-auth?scopes=https%3A//www.googleapis.com/auth/earthengine%20https%3A//www.googleapis.com/auth/cloud-platform%20https%3A//www.googleapis.com/auth/devstorage.full_control&request_id=ln9tYHbCI9w3uqRKXtob5sIWaOixIB-eiH1H0vOQ6rc&tc=qRruETJae6p5WPQWHVV97-bAanX9gaWsKsChXY1h1OE&cc=3NyXx4NlxyKx9BF9tBsBUBoaGvM_BgN5mTfAgJXiP00>https://code.earthengine.google.com/client-auth?scopes=https%3A//www.googleapis.com/auth/earthengine%20https%3A//www.googleapis.com/auth/cloud-platform%20https%3A//www.googleapis.com/auth/devstorage.full_control&request_id=ln9tYHbCI9w3uqRKXtob5sIWaOixIB-eiH1H0vOQ6rc&tc=qRruETJae6p5WPQWHVV97-bAanX9gaWsKsChXY1h1OE&cc=3NyXx4NlxyKx9BF9tBsBUBoaGvM_BgN5mTfAgJXiP00</a></p>\n",
       "        <p>The authorization workflow will generate a code, which you should paste in the box below.</p>\n",
       "        "
      ],
      "text/plain": [
       "<IPython.core.display.HTML object>"
      ]
     },
     "metadata": {},
     "output_type": "display_data"
    },
    {
     "name": "stdout",
     "output_type": "stream",
     "text": [
      "\n",
      "Successfully saved authorization token.\n"
     ]
    }
   ],
   "source": [
    "# Authenticate GEE\n",
    "ee.Authenticate()\n",
    "ee.Initialize(project='ee-wongluyii')"
   ]
  },
  {
   "cell_type": "code",
   "execution_count": 3,
   "metadata": {},
   "outputs": [
    {
     "data": {
      "text/html": [
       "\n",
       "            <style>\n",
       "                .geemap-dark {\n",
       "                    --jp-widgets-color: white;\n",
       "                    --jp-widgets-label-color: white;\n",
       "                    --jp-ui-font-color1: white;\n",
       "                    --jp-layout-color2: #454545;\n",
       "                    background-color: #383838;\n",
       "                }\n",
       "\n",
       "                .geemap-dark .jupyter-button {\n",
       "                    --jp-layout-color3: #383838;\n",
       "                }\n",
       "\n",
       "                .geemap-colab {\n",
       "                    background-color: var(--colab-primary-surface-color, white);\n",
       "                }\n",
       "\n",
       "                .geemap-colab .jupyter-button {\n",
       "                    --jp-layout-color3: var(--colab-primary-surface-color, white);\n",
       "                }\n",
       "            </style>\n",
       "            "
      ],
      "text/plain": [
       "<IPython.core.display.HTML object>"
      ]
     },
     "metadata": {},
     "output_type": "display_data"
    }
   ],
   "source": [
    "# Load Boundary for Area of Interest\n",
    "# Load shapefile\n",
    "gdf = gpd.read_file(\"data/Central_Kalimantan.geojson\").to_crs(epsg=4326)\n",
    "\n",
    "# Convert to Earth Engine object\n",
    "roi = geemap.geopandas_to_ee(gdf)"
   ]
  },
  {
   "cell_type": "code",
   "execution_count": 9,
   "metadata": {},
   "outputs": [
    {
     "data": {
      "text/html": [
       "\n",
       "            <style>\n",
       "                .geemap-dark {\n",
       "                    --jp-widgets-color: white;\n",
       "                    --jp-widgets-label-color: white;\n",
       "                    --jp-ui-font-color1: white;\n",
       "                    --jp-layout-color2: #454545;\n",
       "                    background-color: #383838;\n",
       "                }\n",
       "\n",
       "                .geemap-dark .jupyter-button {\n",
       "                    --jp-layout-color3: #383838;\n",
       "                }\n",
       "\n",
       "                .geemap-colab {\n",
       "                    background-color: var(--colab-primary-surface-color, white);\n",
       "                }\n",
       "\n",
       "                .geemap-colab .jupyter-button {\n",
       "                    --jp-layout-color3: var(--colab-primary-surface-color, white);\n",
       "                }\n",
       "            </style>\n",
       "            "
      ],
      "text/plain": [
       "<IPython.core.display.HTML object>"
      ]
     },
     "metadata": {},
     "output_type": "display_data"
    }
   ],
   "source": [
    "# Define years of interest\n",
    "years = [2018, 2019, 2020, 2021, 2022] "
   ]
  },
  {
   "cell_type": "code",
   "execution_count": 5,
   "metadata": {},
   "outputs": [
    {
     "data": {
      "text/html": [
       "\n",
       "            <style>\n",
       "                .geemap-dark {\n",
       "                    --jp-widgets-color: white;\n",
       "                    --jp-widgets-label-color: white;\n",
       "                    --jp-ui-font-color1: white;\n",
       "                    --jp-layout-color2: #454545;\n",
       "                    background-color: #383838;\n",
       "                }\n",
       "\n",
       "                .geemap-dark .jupyter-button {\n",
       "                    --jp-layout-color3: #383838;\n",
       "                }\n",
       "\n",
       "                .geemap-colab {\n",
       "                    background-color: var(--colab-primary-surface-color, white);\n",
       "                }\n",
       "\n",
       "                .geemap-colab .jupyter-button {\n",
       "                    --jp-layout-color3: var(--colab-primary-surface-color, white);\n",
       "                }\n",
       "            </style>\n",
       "            "
      ],
      "text/plain": [
       "<IPython.core.display.HTML object>"
      ]
     },
     "metadata": {},
     "output_type": "display_data"
    }
   ],
   "source": [
    "# Create Functions to pull data following the given parameters\n",
    "# Visualization parameters\n",
    "s2_vis = {\n",
    "    \"bands\": [\"B4\", \"B3\", \"B2\"],  # True color\n",
    "    \"min\": 0,\n",
    "    \"max\": 0.3\n",
    "}\n",
    "\n",
    "# Cloud masking function\n",
    "def maskS2clouds(image):\n",
    "    qa = image.select(\"QA60\")\n",
    "    cloudBitMask = 1 << 10\n",
    "    cirrusBitMask = 1 << 11\n",
    "    mask = qa.bitwiseAnd(cloudBitMask).eq(0).And(\n",
    "           qa.bitwiseAnd(cirrusBitMask).eq(0))\n",
    "    return image.updateMask(mask).divide(10000)\n",
    "\n",
    "# Create map\n",
    "Map = geemap.Map()\n",
    "Map.centerObject(roi, 7)"
   ]
  },
  {
   "cell_type": "code",
   "execution_count": 11,
   "metadata": {},
   "outputs": [
    {
     "data": {
      "text/html": [
       "\n",
       "            <style>\n",
       "                .geemap-dark {\n",
       "                    --jp-widgets-color: white;\n",
       "                    --jp-widgets-label-color: white;\n",
       "                    --jp-ui-font-color1: white;\n",
       "                    --jp-layout-color2: #454545;\n",
       "                    background-color: #383838;\n",
       "                }\n",
       "\n",
       "                .geemap-dark .jupyter-button {\n",
       "                    --jp-layout-color3: #383838;\n",
       "                }\n",
       "\n",
       "                .geemap-colab {\n",
       "                    background-color: var(--colab-primary-surface-color, white);\n",
       "                }\n",
       "\n",
       "                .geemap-colab .jupyter-button {\n",
       "                    --jp-layout-color3: var(--colab-primary-surface-color, white);\n",
       "                }\n",
       "            </style>\n",
       "            "
      ],
      "text/plain": [
       "<IPython.core.display.HTML object>"
      ]
     },
     "metadata": {},
     "output_type": "display_data"
    },
    {
     "data": {
      "application/vnd.jupyter.widget-view+json": {
       "model_id": "ead19955c7f54b94a48df9a16aa09598",
       "version_major": 2,
       "version_minor": 0
      },
      "text/plain": [
       "Map(center=[-1.6022213970366683, 113.41802211199322], controls=(WidgetControl(options=['position', 'transparen…"
      ]
     },
     "execution_count": 11,
     "metadata": {},
     "output_type": "execute_result"
    }
   ],
   "source": [
    "# Create map\n",
    "Map = geemap.Map()\n",
    "Map.centerObject(roi, 7)\n",
    "\n",
    "# Load S2_SR and S2_CLOUD_PROBABILITY as a joined collection\n",
    "s2_sr = ee.ImageCollection(\"COPERNICUS/S2_SR\")\n",
    "s2_clouds = ee.ImageCollection(\"COPERNICUS/S2_CLOUD_PROBABILITY\")\n",
    "\n",
    "# Join function\n",
    "def join_collections(sr_col, cloud_col):\n",
    "    join = ee.Join.saveFirst(\"cloud_mask\")\n",
    "    filter_time_eq = ee.Filter.equals(leftField=\"system:index\", rightField=\"system:index\")\n",
    "    joined = join.apply(sr_col, cloud_col, filter_time_eq)\n",
    "    return ee.ImageCollection(joined)\n",
    "\n",
    "def maskClouds(image):\n",
    "    cloud_mask = ee.Image(image.get(\"cloud_mask\")).select(\"probability\")\n",
    "    mask = cloud_mask.lt(40)  # mask where cloud probability < 40%\n",
    "    return image.updateMask(mask).divide(10000)\n",
    "\n",
    "\n",
    "# Loop\n",
    "for year in years:\n",
    "    start = f\"{year}-01-01\"\n",
    "    end = f\"{year}-12-31\"\n",
    "\n",
    "    s2 = s2_sr.filterDate(start, end).filterBounds(roi)\n",
    "    s2_prob = s2_clouds.filterDate(start, end).filterBounds(roi)\n",
    "\n",
    "    s2_joined = join_collections(s2, s2_prob).map(maskClouds)\n",
    "\n",
    "    s2_median = s2_joined.median().clip(roi)\n",
    "\n",
    "    Map.addLayer(s2_median, s2_vis, f\"Sentinel-2 {year}\")\n",
    "\n",
    "\n",
    "\n",
    "# Add ROI for reference\n",
    "Map.addLayer(roi, {}, \"Study Area\")\n",
    "Map"
   ]
  },
  {
   "cell_type": "code",
   "execution_count": 13,
   "metadata": {},
   "outputs": [
    {
     "data": {
      "text/html": [
       "\n",
       "            <style>\n",
       "                .geemap-dark {\n",
       "                    --jp-widgets-color: white;\n",
       "                    --jp-widgets-label-color: white;\n",
       "                    --jp-ui-font-color1: white;\n",
       "                    --jp-layout-color2: #454545;\n",
       "                    background-color: #383838;\n",
       "                }\n",
       "\n",
       "                .geemap-dark .jupyter-button {\n",
       "                    --jp-layout-color3: #383838;\n",
       "                }\n",
       "\n",
       "                .geemap-colab {\n",
       "                    background-color: var(--colab-primary-surface-color, white);\n",
       "                }\n",
       "\n",
       "                .geemap-colab .jupyter-button {\n",
       "                    --jp-layout-color3: var(--colab-primary-surface-color, white);\n",
       "                }\n",
       "            </style>\n",
       "            "
      ],
      "text/plain": [
       "<IPython.core.display.HTML object>"
      ]
     },
     "metadata": {},
     "output_type": "display_data"
    },
    {
     "data": {
      "application/vnd.jupyter.widget-view+json": {
       "model_id": "ab605177fb3f44068b13341a6b0a8682",
       "version_major": 2,
       "version_minor": 0
      },
      "text/plain": [
       "Map(center=[-1.6022213970366683, 113.41802211199322], controls=(WidgetControl(options=['position', 'transparen…"
      ]
     },
     "execution_count": 13,
     "metadata": {},
     "output_type": "execute_result"
    }
   ],
   "source": [
    "# Define years of interest\n",
    "years = [2017, 2020, 2023] \n",
    "\n",
    "# Create map\n",
    "Map = geemap.Map()\n",
    "Map.centerObject(roi, 7)\n",
    "\n",
    "# Load S2_SR and S2_CLOUD_PROBABILITY as a joined collection\n",
    "s2_sr = ee.ImageCollection(\"COPERNICUS/S2_SR\")\n",
    "s2_clouds = ee.ImageCollection(\"COPERNICUS/S2_CLOUD_PROBABILITY\")\n",
    "\n",
    "# Join function\n",
    "def join_collections(sr_col, cloud_col):\n",
    "    join = ee.Join.saveFirst(\"cloud_mask\")\n",
    "    filter_time_eq = ee.Filter.equals(leftField=\"system:index\", rightField=\"system:index\")\n",
    "    joined = join.apply(sr_col, cloud_col, filter_time_eq)\n",
    "    return ee.ImageCollection(joined)\n",
    "\n",
    "def maskClouds(image):\n",
    "    cloud_mask = ee.Image(image.get(\"cloud_mask\")).select(\"probability\")\n",
    "    mask = cloud_mask.lt(40)  # mask where cloud probability < 40%\n",
    "    return image.updateMask(mask).divide(10000)\n",
    "\n",
    "\n",
    "# Loop\n",
    "for year in years:\n",
    "    start = f\"{year}-01-01\"\n",
    "    end = f\"{year}-12-31\"\n",
    "\n",
    "    s2 = s2_sr.filterDate(start, end).filterBounds(roi)\n",
    "    s2_prob = s2_clouds.filterDate(start, end).filterBounds(roi)\n",
    "\n",
    "    s2_joined = join_collections(s2, s2_prob).map(maskClouds)\n",
    "\n",
    "    s2_median = s2_joined.median().clip(roi)\n",
    "\n",
    "    Map.addLayer(s2_median, s2_vis, f\"Sentinel-2 {year}\")\n",
    "\n",
    "\n",
    "\n",
    "# Add ROI for reference\n",
    "Map.addLayer(roi, {}, \"Study Area\")\n",
    "Map"
   ]
  },
  {
   "cell_type": "code",
   "execution_count": null,
   "metadata": {},
   "outputs": [],
   "source": []
  },
  {
   "cell_type": "markdown",
   "metadata": {},
   "source": [
    "Only images from 2020 is being pulled correctly."
   ]
  }
 ],
 "metadata": {
  "kernelspec": {
   "display_name": "musa-650",
   "language": "python",
   "name": "python3"
  },
  "language_info": {
   "codemirror_mode": {
    "name": "ipython",
    "version": 3
   },
   "file_extension": ".py",
   "mimetype": "text/x-python",
   "name": "python",
   "nbconvert_exporter": "python",
   "pygments_lexer": "ipython3",
   "version": "3.11.11"
  }
 },
 "nbformat": 4,
 "nbformat_minor": 2
}

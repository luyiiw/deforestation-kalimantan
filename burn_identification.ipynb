{
 "cells": [
  {
   "cell_type": "markdown",
   "metadata": {},
   "source": [
    "# Mapping Agricultural-Driven Deforestation in Central Kalimantan with Remote Sensing\n",
    "\n",
    "Lu Yii Wong \n",
    "\n",
    "May 2025"
   ]
  },
  {
   "cell_type": "markdown",
   "metadata": {},
   "source": [
    "## Part 1: Setup and Data Aquisition "
   ]
  },
  {
   "cell_type": "code",
   "execution_count": 1,
   "metadata": {},
   "outputs": [],
   "source": [
    "# Setup Libraries\n",
    "import ee\n",
    "import geemap\n",
    "import matplotlib.pyplot as plt\n",
    "import numpy as np\n",
    "import seaborn as sns\n",
    "import pandas as pd\n",
    "import geopandas as gpd\n",
    "from datetime import datetime"
   ]
  },
  {
   "cell_type": "code",
   "execution_count": 2,
   "metadata": {},
   "outputs": [
    {
     "data": {
      "text/html": [
       "\n",
       "            <style>\n",
       "                .geemap-dark {\n",
       "                    --jp-widgets-color: white;\n",
       "                    --jp-widgets-label-color: white;\n",
       "                    --jp-ui-font-color1: white;\n",
       "                    --jp-layout-color2: #454545;\n",
       "                    background-color: #383838;\n",
       "                }\n",
       "\n",
       "                .geemap-dark .jupyter-button {\n",
       "                    --jp-layout-color3: #383838;\n",
       "                }\n",
       "\n",
       "                .geemap-colab {\n",
       "                    background-color: var(--colab-primary-surface-color, white);\n",
       "                }\n",
       "\n",
       "                .geemap-colab .jupyter-button {\n",
       "                    --jp-layout-color3: var(--colab-primary-surface-color, white);\n",
       "                }\n",
       "            </style>\n",
       "            "
      ],
      "text/plain": [
       "<IPython.core.display.HTML object>"
      ]
     },
     "metadata": {},
     "output_type": "display_data"
    }
   ],
   "source": [
    "# Authenticate GEE\n",
    "ee.Authenticate()\n",
    "ee.Initialize(project='ee-wongluyii')"
   ]
  },
  {
   "cell_type": "code",
   "execution_count": 7,
   "metadata": {},
   "outputs": [
    {
     "data": {
      "text/html": [
       "\n",
       "            <style>\n",
       "                .geemap-dark {\n",
       "                    --jp-widgets-color: white;\n",
       "                    --jp-widgets-label-color: white;\n",
       "                    --jp-ui-font-color1: white;\n",
       "                    --jp-layout-color2: #454545;\n",
       "                    background-color: #383838;\n",
       "                }\n",
       "\n",
       "                .geemap-dark .jupyter-button {\n",
       "                    --jp-layout-color3: #383838;\n",
       "                }\n",
       "\n",
       "                .geemap-colab {\n",
       "                    background-color: var(--colab-primary-surface-color, white);\n",
       "                }\n",
       "\n",
       "                .geemap-colab .jupyter-button {\n",
       "                    --jp-layout-color3: var(--colab-primary-surface-color, white);\n",
       "                }\n",
       "            </style>\n",
       "            "
      ],
      "text/plain": [
       "<IPython.core.display.HTML object>"
      ]
     },
     "metadata": {},
     "output_type": "display_data"
    }
   ],
   "source": [
    "# Pull Sentinel-2 Imagary using GEE\n",
    "\n",
    "# Load Boundary for Area of Interest (Pulang Pisau)\n",
    "gdf = gpd.read_file(\"data/Pulang_Pisau_boundary.geojson\").to_crs(epsg=4326)\n",
    "roi = geemap.geopandas_to_ee(gdf)\n",
    "\n",
    "# Load Sentinel-2 SF Image (2A)\n",
    "sentinel2 = (ee.ImageCollection(\"COPERNICUS/S2_SR\")\n",
    "             .filterDate(\"2018-12-01\", \"2019-12-31\")\n",
    "             .filterBounds(roi)\n",
    "             .filter(ee.Filter.lt(\"CLOUDY_PIXEL_PERCENTAGE\", 30)))  # Optional: <30% cloud cover\n",
    "\n",
    "# Function to mask clouds and cirrus using QA60 bitmask\n",
    "def maskS2clouds(image):\n",
    "    qa = image.select(\"QA60\")\n",
    "    cloudBitMask = 1 << 10  # Bit 10: clouds\n",
    "    cirrusBitMask = 1 << 11 # Bit 11: cirrus\n",
    "    mask = qa.bitwiseAnd(cloudBitMask).eq(0).And(\n",
    "           qa.bitwiseAnd(cirrusBitMask).eq(0))\n",
    "    return image.updateMask(mask).divide(10000).copyProperties(image, [\"system:time_start\"])"
   ]
  },
  {
   "cell_type": "code",
   "execution_count": 8,
   "metadata": {},
   "outputs": [
    {
     "data": {
      "text/html": [
       "\n",
       "            <style>\n",
       "                .geemap-dark {\n",
       "                    --jp-widgets-color: white;\n",
       "                    --jp-widgets-label-color: white;\n",
       "                    --jp-ui-font-color1: white;\n",
       "                    --jp-layout-color2: #454545;\n",
       "                    background-color: #383838;\n",
       "                }\n",
       "\n",
       "                .geemap-dark .jupyter-button {\n",
       "                    --jp-layout-color3: #383838;\n",
       "                }\n",
       "\n",
       "                .geemap-colab {\n",
       "                    background-color: var(--colab-primary-surface-color, white);\n",
       "                }\n",
       "\n",
       "                .geemap-colab .jupyter-button {\n",
       "                    --jp-layout-color3: var(--colab-primary-surface-color, white);\n",
       "                }\n",
       "            </style>\n",
       "            "
      ],
      "text/plain": [
       "<IPython.core.display.HTML object>"
      ]
     },
     "metadata": {},
     "output_type": "display_data"
    }
   ],
   "source": [
    "# Apply cloud masking \n",
    "sentinel2_clean = sentinel2.map(maskS2clouds)\n",
    "\n",
    "# Select bands \n",
    "sentinel2_selected = sentinel2_clean.select([\"B8\", \"B12\", \"B4\", \"B11\", \"B3\", \"B2\", \"B5\", \"B6\", \"B7\", \"B8A\"])"
   ]
  },
  {
   "cell_type": "code",
   "execution_count": 9,
   "metadata": {},
   "outputs": [
    {
     "data": {
      "text/html": [
       "\n",
       "            <style>\n",
       "                .geemap-dark {\n",
       "                    --jp-widgets-color: white;\n",
       "                    --jp-widgets-label-color: white;\n",
       "                    --jp-ui-font-color1: white;\n",
       "                    --jp-layout-color2: #454545;\n",
       "                    background-color: #383838;\n",
       "                }\n",
       "\n",
       "                .geemap-dark .jupyter-button {\n",
       "                    --jp-layout-color3: #383838;\n",
       "                }\n",
       "\n",
       "                .geemap-colab {\n",
       "                    background-color: var(--colab-primary-surface-color, white);\n",
       "                }\n",
       "\n",
       "                .geemap-colab .jupyter-button {\n",
       "                    --jp-layout-color3: var(--colab-primary-surface-color, white);\n",
       "                }\n",
       "            </style>\n",
       "            "
      ],
      "text/plain": [
       "<IPython.core.display.HTML object>"
      ]
     },
     "metadata": {},
     "output_type": "display_data"
    },
    {
     "data": {
      "application/vnd.jupyter.widget-view+json": {
       "model_id": "427e64a9efb04148aaaf775fec51df9f",
       "version_major": 2,
       "version_minor": 0
      },
      "text/plain": [
       "Map(center=[-2.7158640396563944, 113.95461205914583], controls=(WidgetControl(options=['position', 'transparen…"
      ]
     },
     "execution_count": 9,
     "metadata": {},
     "output_type": "execute_result"
    }
   ],
   "source": [
    "# Create Visual Parameters and Display map\n",
    "viz_params = {\n",
    "    \"bands\": [\"B4\", \"B3\", \"B2\"],\n",
    "    \"min\": 0.0,\n",
    "    \"max\": 0.3\n",
    "}\n",
    "\n",
    "Map = geemap.Map()\n",
    "Map.centerObject(roi, 9)\n",
    "Map.addLayer(sentinel2_selected.median().clip(roi), viz_params, \"Sentinel-2 Median (2018-2019)\")\n",
    "Map.addLayer(roi, {}, \"Pulang Pisau Boundary\")\n",
    "Map"
   ]
  },
  {
   "cell_type": "markdown",
   "metadata": {},
   "source": [
    "## Calculate Normalized Burn Ratio (NBR) "
   ]
  },
  {
   "cell_type": "code",
   "execution_count": 10,
   "metadata": {},
   "outputs": [
    {
     "data": {
      "text/html": [
       "\n",
       "            <style>\n",
       "                .geemap-dark {\n",
       "                    --jp-widgets-color: white;\n",
       "                    --jp-widgets-label-color: white;\n",
       "                    --jp-ui-font-color1: white;\n",
       "                    --jp-layout-color2: #454545;\n",
       "                    background-color: #383838;\n",
       "                }\n",
       "\n",
       "                .geemap-dark .jupyter-button {\n",
       "                    --jp-layout-color3: #383838;\n",
       "                }\n",
       "\n",
       "                .geemap-colab {\n",
       "                    background-color: var(--colab-primary-surface-color, white);\n",
       "                }\n",
       "\n",
       "                .geemap-colab .jupyter-button {\n",
       "                    --jp-layout-color3: var(--colab-primary-surface-color, white);\n",
       "                }\n",
       "            </style>\n",
       "            "
      ],
      "text/plain": [
       "<IPython.core.display.HTML object>"
      ]
     },
     "metadata": {},
     "output_type": "display_data"
    },
    {
     "data": {
      "application/vnd.jupyter.widget-view+json": {
       "model_id": "dc42bf6d3ca445fdae8a944fcc3aa033",
       "version_major": 2,
       "version_minor": 0
      },
      "text/plain": [
       "Map(center=[-2.7158640396563944, 113.95461205914583], controls=(WidgetControl(options=['position', 'transparen…"
      ]
     },
     "execution_count": 10,
     "metadata": {},
     "output_type": "execute_result"
    }
   ],
   "source": [
    "# Create a function to calculate NBR for each Sentinel-2 image\n",
    "def calculate_nbr(image):\n",
    "    # NBR = (NIR - SWIR2) / (NIR + SWIR2)\n",
    "    nbr = image.normalizedDifference([\"B8\", \"B12\"]).rename(\"NBR\")\n",
    "    return image.addBands(nbr)\n",
    "\n",
    "# Apply the NBR function across the cleaned Sentinel-2 collection\n",
    "sentinel2_with_nbr = sentinel2_selected.map(calculate_nbr)\n",
    "\n",
    "# Only keep the NBR band for easier processing later\n",
    "nbr_collection = sentinel2_with_nbr.select(\"NBR\")\n",
    "\n",
    "# Visualize the median NBR across the whole period\n",
    "Map = geemap.Map()\n",
    "Map.centerObject(roi, 9)\n",
    "Map.addLayer(nbr_collection.median().clip(roi), {\"min\": -0.5, \"max\": 1, \"palette\": [\"white\", \"green\", \"black\"]}, \"Median NBR (2018-2019)\")\n",
    "Map.addLayer(roi, {}, \"Pulang Pisau Boundary\")\n",
    "Map"
   ]
  },
  {
   "cell_type": "code",
   "execution_count": 11,
   "metadata": {},
   "outputs": [
    {
     "data": {
      "text/html": [
       "\n",
       "            <style>\n",
       "                .geemap-dark {\n",
       "                    --jp-widgets-color: white;\n",
       "                    --jp-widgets-label-color: white;\n",
       "                    --jp-ui-font-color1: white;\n",
       "                    --jp-layout-color2: #454545;\n",
       "                    background-color: #383838;\n",
       "                }\n",
       "\n",
       "                .geemap-dark .jupyter-button {\n",
       "                    --jp-layout-color3: #383838;\n",
       "                }\n",
       "\n",
       "                .geemap-colab {\n",
       "                    background-color: var(--colab-primary-surface-color, white);\n",
       "                }\n",
       "\n",
       "                .geemap-colab .jupyter-button {\n",
       "                    --jp-layout-color3: var(--colab-primary-surface-color, white);\n",
       "                }\n",
       "            </style>\n",
       "            "
      ],
      "text/plain": [
       "<IPython.core.display.HTML object>"
      ]
     },
     "metadata": {},
     "output_type": "display_data"
    },
    {
     "name": "stdout",
     "output_type": "stream",
     "text": [
      "Number of Sentinel-2 images with NBR in the collection: 234\n"
     ]
    }
   ],
   "source": [
    "# Check number of images in the filtered Sentinel-2 ImageCollection\n",
    "n_images = nbr_collection.size().getInfo()\n",
    "print(f\"Number of Sentinel-2 images with NBR in the collection: {n_images}\")\n",
    "\n",
    "# Get list of image dates\n",
    "timestamps = nbr_collection.aggregate_array(\"system:time_start\").getInfo()\n",
    "dates = [datetime.utcfromtimestamp(t / 1000).strftime('%Y-%m-%d') for t in timestamps]\n",
    "\n",
    "# Create a DataFrame\n",
    "dates_df = pd.DataFrame(dates, columns=[\"Acquisition Date\"])\n",
    "dates_df.index += 1\n",
    "print(dates_df)"
   ]
  },
  {
   "cell_type": "code",
   "execution_count": 32,
   "metadata": {},
   "outputs": [
    {
     "data": {
      "text/html": [
       "\n",
       "            <style>\n",
       "                .geemap-dark {\n",
       "                    --jp-widgets-color: white;\n",
       "                    --jp-widgets-label-color: white;\n",
       "                    --jp-ui-font-color1: white;\n",
       "                    --jp-layout-color2: #454545;\n",
       "                    background-color: #383838;\n",
       "                }\n",
       "\n",
       "                .geemap-dark .jupyter-button {\n",
       "                    --jp-layout-color3: #383838;\n",
       "                }\n",
       "\n",
       "                .geemap-colab {\n",
       "                    background-color: var(--colab-primary-surface-color, white);\n",
       "                }\n",
       "\n",
       "                .geemap-colab .jupyter-button {\n",
       "                    --jp-layout-color3: var(--colab-primary-surface-color, white);\n",
       "                }\n",
       "            </style>\n",
       "            "
      ],
      "text/plain": [
       "<IPython.core.display.HTML object>"
      ]
     },
     "metadata": {},
     "output_type": "display_data"
    },
    {
     "name": "stdout",
     "output_type": "stream",
     "text": [
      "Number of unique dates: 64\n",
      "2018-12-30\n",
      "2019-02-08\n",
      "2019-02-15\n",
      "2019-02-20\n",
      "2019-02-23\n",
      "2019-02-25\n",
      "2019-03-15\n",
      "2019-03-17\n",
      "2019-03-20\n",
      "2019-03-22\n",
      "2019-04-01\n",
      "2019-04-06\n",
      "2019-04-21\n",
      "2019-04-26\n",
      "2019-05-01\n",
      "2019-05-04\n",
      "2019-05-06\n",
      "2019-05-09\n",
      "2019-05-16\n",
      "2019-05-24\n",
      "2019-06-05\n",
      "2019-06-23\n",
      "2019-06-28\n",
      "2019-06-30\n",
      "2019-07-05\n",
      "2019-07-08\n",
      "2019-07-13\n",
      "2019-07-15\n",
      "2019-07-23\n",
      "2019-07-25\n",
      "2019-07-28\n",
      "2019-07-30\n",
      "2019-08-02\n",
      "2019-08-04\n",
      "2019-08-09\n",
      "2019-08-12\n",
      "2019-08-14\n",
      "2019-08-17\n",
      "2019-08-19\n",
      "2019-08-22\n",
      "2019-08-29\n",
      "2019-09-01\n",
      "2019-09-06\n",
      "2019-09-08\n",
      "2019-09-11\n",
      "2019-09-13\n",
      "2019-09-18\n",
      "2019-09-23\n",
      "2019-09-28\n",
      "2019-10-08\n",
      "2019-10-13\n",
      "2019-10-23\n",
      "2019-10-28\n",
      "2019-11-05\n",
      "2019-11-07\n",
      "2019-11-10\n",
      "2019-11-15\n",
      "2019-11-17\n",
      "2019-11-22\n",
      "2019-11-25\n",
      "2019-11-27\n",
      "2019-12-05\n",
      "2019-12-20\n",
      "2019-12-27\n"
     ]
    }
   ],
   "source": [
    "# Count number of unique acquisition dates\n",
    "unique_dates = dates_df[\"Acquisition Date\"].nunique()\n",
    "print(f\"Number of unique dates: {unique_dates}\")\n",
    "\n",
    "# Print sorted unique dates\n",
    "unique_dates_list = sorted(dates_df[\"Acquisition Date\"].unique())\n",
    "\n",
    "for date in unique_dates_list:\n",
    "    print(date)"
   ]
  },
  {
   "cell_type": "markdown",
   "metadata": {},
   "source": [
    "## Pre- and Post-Seaonal Fire Composites\n",
    "The initial method using the moving window does not fit with the data that I have for Pulang Pisau. "
   ]
  },
  {
   "cell_type": "code",
   "execution_count": null,
   "metadata": {},
   "outputs": [
    {
     "data": {
      "text/html": [
       "\n",
       "            <style>\n",
       "                .geemap-dark {\n",
       "                    --jp-widgets-color: white;\n",
       "                    --jp-widgets-label-color: white;\n",
       "                    --jp-ui-font-color1: white;\n",
       "                    --jp-layout-color2: #454545;\n",
       "                    background-color: #383838;\n",
       "                }\n",
       "\n",
       "                .geemap-dark .jupyter-button {\n",
       "                    --jp-layout-color3: #383838;\n",
       "                }\n",
       "\n",
       "                .geemap-colab {\n",
       "                    background-color: var(--colab-primary-surface-color, white);\n",
       "                }\n",
       "\n",
       "                .geemap-colab .jupyter-button {\n",
       "                    --jp-layout-color3: var(--colab-primary-surface-color, white);\n",
       "                }\n",
       "            </style>\n",
       "            "
      ],
      "text/plain": [
       "<IPython.core.display.HTML object>"
      ]
     },
     "metadata": {},
     "output_type": "display_data"
    },
    {
     "data": {
      "application/vnd.jupyter.widget-view+json": {
       "model_id": "38b6cd4eb0d143ddb8c04525ecd504ad",
       "version_major": 2,
       "version_minor": 0
      },
      "text/plain": [
       "Map(center=[-2.7158640396563944, 113.95461205914583], controls=(WidgetControl(options=['position', 'transparen…"
      ]
     },
     "execution_count": 34,
     "metadata": {},
     "output_type": "execute_result"
    }
   ],
   "source": [
    "# Pre-Fire Composite (before dry season fires)\n",
    "pre_fire = (sentinel2_selected\n",
    "            .filterDate(\"2019-01-01\", \"2019-06-30\")\n",
    "            .median()\n",
    "            .clip(roi))\n",
    "\n",
    "# Post-Fire Composite (after fire season)\n",
    "post_fire = (sentinel2_selected\n",
    "             .filterDate(\"2019-09-01\", \"2019-12-31\")\n",
    "             .median()\n",
    "             .clip(roi))\n",
    "\n",
    "# Calculate NBR for Pre- and Post-Fire Composites\n",
    "pre_fire_nbr = pre_fire.normalizedDifference([\"B8\", \"B12\"]).rename(\"NBR\")\n",
    "post_fire_nbr = post_fire.normalizedDifference([\"B8\", \"B12\"]).rename(\"NBR\")\n",
    "\n",
    "# Calculate dNBR\n",
    "dnbr_simple = pre_fire_nbr.subtract(post_fire_nbr).rename(\"dNBR\")\n",
    "\n",
    "# Burn mask (Only show areas with dNBR > 0.2)\n",
    "burn_mask = dnbr_simple.gt(0.2)\n",
    "\n",
    "# Visualization\n",
    "Map = geemap.Map()\n",
    "Map.centerObject(roi, 9)\n",
    "Map.addLayer(dnbr_simple, {\"min\": 0, \"max\": 0.5, \"palette\": [\"white\", \"yellow\", \"red\", \"black\"]}, \"Simple dNBR (Pre vs Post)\")\n",
    "Map.addLayer(\n",
    "    dnbr_simple.updateMask(burn_mask),\n",
    "    {\"min\": 0.2, \"max\": 0.5, \"palette\": [\"yellow\", \"red\", \"black\"]},\n",
    "    \"Burned Areas Mask (dNBR > 0.2)\"\n",
    ")\n",
    "#Map.addLayer(roi, {}, \"Pulang Pisau Boundary\")\n",
    "Map\n"
   ]
  },
  {
   "cell_type": "code",
   "execution_count": null,
   "metadata": {},
   "outputs": [],
   "source": [
    "# Burn mask (Only show areas with dNBR > 0.2)\n",
    "burn_mask = dnbr_simple.gt(0.2)\n",
    "\n",
    "# Visualization\n",
    "Map = geemap.Map()\n",
    "Map.centerObject(roi, 9)\n",
    "Map.addLayer(dnbr_simple, {\"min\": 0, \"max\": 0.5, \"palette\": [\"white\", \"yellow\", \"red\", \"black\"]}, \"Simple dNBR (Pre vs Post)\")\n",
    "Map.addLayer(\n",
    "    dnbr_simple.updateMask(burn_mask),\n",
    "    {\"min\": 0.2, \"max\": 0.5, \"palette\": [\"yellow\", \"red\", \"black\"]},\n",
    "    \"Burned Areas Mask (dNBR > 0.2)\"\n",
    ")\n",
    "#Map.addLayer(roi, {}, \"Pulang Pisau Boundary\")\n",
    "Map"
   ]
  }
 ],
 "metadata": {
  "kernelspec": {
   "display_name": "musa-650",
   "language": "python",
   "name": "python3"
  },
  "language_info": {
   "codemirror_mode": {
    "name": "ipython",
    "version": 3
   },
   "file_extension": ".py",
   "mimetype": "text/x-python",
   "name": "python",
   "nbconvert_exporter": "python",
   "pygments_lexer": "ipython3",
   "version": "3.11.11"
  }
 },
 "nbformat": 4,
 "nbformat_minor": 2
}
